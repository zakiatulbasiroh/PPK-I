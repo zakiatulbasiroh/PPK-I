{
 "cells": [
  {
   "cell_type": "code",
   "execution_count": 1,
   "id": "52850278",
   "metadata": {},
   "outputs": [],
   "source": [
    "import sympy\n",
    "from sympy import *\n",
    "init_printing()"
   ]
  },
  {
   "cell_type": "markdown",
   "id": "3a110e6c",
   "metadata": {},
   "source": [
    "Membuat 5 soal matematika beserta penyelesaiannya menggunakan bantuan sympy!"
   ]
  },
  {
   "cell_type": "markdown",
   "id": "4c89cbd7",
   "metadata": {},
   "source": [
    "#### Nomor 1"
   ]
  },
  {
   "cell_type": "code",
   "execution_count": 3,
   "id": "cefb34fd",
   "metadata": {},
   "outputs": [
    {
     "data": {
      "image/png": "[encoded data removed]",
      "text/latex": [
       "$\\displaystyle x^{2} + 2 x + 2$"
      ],
      "text/plain": [
       " 2          \n",
       "x  + 2⋅x + 2"
      ]
     },
     "execution_count": 3,
     "metadata": {},
     "output_type": "execute_result"
    }
   ],
   "source": [
    "x = Symbol('x')\n",
    "y = x**2 + 1\n",
    "z = (2*x + 1)\n",
    "simplify(y + z)"
   ]
  },
  {
   "cell_type": "markdown",
   "id": "fd029cd0",
   "metadata": {},
   "source": [
    "#### Nomor 2"
   ]
  },
  {
   "cell_type": "code",
   "execution_count": 4,
   "id": "f7eeccfa",
   "metadata": {},
   "outputs": [
    {
     "data": {
      "image/png": "[encoded data removed]",
      "text/latex": [
       "$\\displaystyle \\left[ \\frac{- q + \\sqrt{- 4 p r + q^{2}}}{2 p}, \\  - \\frac{q + \\sqrt{- 4 p r + q^{2}}}{2 p}\\right]$"
      ],
      "text/plain": [
       "⎡        _____________   ⎛       _____________⎞ ⎤\n",
       "⎢       ╱           2    ⎜      ╱           2 ⎟ ⎥\n",
       "⎢-q + ╲╱  -4⋅p⋅r + q    -⎝q + ╲╱  -4⋅p⋅r + q  ⎠ ⎥\n",
       "⎢─────────────────────, ────────────────────────⎥\n",
       "⎣         2⋅p                     2⋅p           ⎦"
      ]
     },
     "execution_count": 4,
     "metadata": {},
     "output_type": "execute_result"
    }
   ],
   "source": [
    "p, q, r, x = symbols('p q r x')\n",
    "solve(p*x**2 + q*x + r, x)"
   ]
  },
  {
   "cell_type": "markdown",
   "id": "6d9f7eb5",
   "metadata": {},
   "source": [
    "#### Nomor 3"
   ]
  },
  {
   "cell_type": "code",
   "execution_count": 5,
   "id": "e6fbad41",
   "metadata": {},
   "outputs": [
    {
     "data": {
      "image/png": "[encoded data removed]",
      "text/latex": [
       "$\\displaystyle \\sqrt{2} \\operatorname{atan}{\\left(\\frac{\\sqrt{2} x}{2} \\right)}$"
      ],
      "text/plain": [
       "       ⎛√2⋅x⎞\n",
       "√2⋅atan⎜────⎟\n",
       "       ⎝ 2  ⎠"
      ]
     },
     "execution_count": 5,
     "metadata": {},
     "output_type": "execute_result"
    }
   ],
   "source": [
    "integrate(2/(2 + x**2), x)"
   ]
  },
  {
   "cell_type": "markdown",
   "id": "bc2e2e04",
   "metadata": {},
   "source": [
    "#### Nomor 4"
   ]
  },
  {
   "cell_type": "code",
   "execution_count": 6,
   "id": "f35c16a2",
   "metadata": {},
   "outputs": [
    {
     "data": {
      "image/png": "[encoded data removed]",
      "text/latex": [
       "$\\displaystyle - \\frac{x^{2}}{\\sqrt{5 - x^{2}}} + \\sqrt{5 - x^{2}}$"
      ],
      "text/plain": [
       "        2          ________\n",
       "       x          ╱      2 \n",
       "- ─────────── + ╲╱  5 - x  \n",
       "     ________              \n",
       "    ╱      2               \n",
       "  ╲╱  5 - x                "
      ]
     },
     "execution_count": 6,
     "metadata": {},
     "output_type": "execute_result"
    }
   ],
   "source": [
    "diff(x*sqrt(5 - x**2), x)"
   ]
  },
  {
   "cell_type": "markdown",
   "id": "a559c311",
   "metadata": {},
   "source": [
    "#### Nomor 5"
   ]
  },
  {
   "cell_type": "code",
   "execution_count": 7,
   "id": "e991897e",
   "metadata": {},
   "outputs": [
    {
     "data": {
      "image/png": "[encoded data removed]",
      "text/latex": [
       "$\\displaystyle 4$"
      ],
      "text/plain": [
       "4"
      ]
     },
     "execution_count": 7,
     "metadata": {},
     "output_type": "execute_result"
    }
   ],
   "source": [
    "limit(2*sin(x) + 2*cos(2*x) + 2, x, 0)"
   ]
  },
  {
   "cell_type": "code",
   "execution_count": null,
   "id": "3471ff1c",
   "metadata": {},
   "outputs": [],
   "source": []
  }
 ],
 "metadata": {
  "kernelspec": {
   "display_name": "Python 3 (ipykernel)",
   "language": "python",
   "name": "python3"
  },
  "language_info": {
   "codemirror_mode": {
    "name": "ipython",
    "version": 3
   },
   "file_extension": ".py",
   "mimetype": "text/x-python",
   "name": "python",
   "nbconvert_exporter": "python",
   "pygments_lexer": "ipython3",
   "version": "3.9.7"
  }
 },
 "nbformat": 4,
 "nbformat_minor": 5
}
