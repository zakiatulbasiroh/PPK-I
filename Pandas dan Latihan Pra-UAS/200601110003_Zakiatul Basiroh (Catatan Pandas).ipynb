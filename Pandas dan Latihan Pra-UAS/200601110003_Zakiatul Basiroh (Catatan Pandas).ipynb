{
 "cells": [
  {
   "cell_type": "markdown",
   "id": "a247ba60",
   "metadata": {},
   "source": [
    "## Rangkuman Pandas"
   ]
  },
  {
   "cell_type": "markdown",
   "id": "702dce77",
   "metadata": {},
   "source": [
    "Pandas adalah sebuah library yang berisi BSD dan open sourch yang menyediakan struktur data dan anlisis data yang mudah digunakan dan berkinerja tinggi untuk bahasa pemograman Python.\\\n",
    "Library analisi data memiliki struktur data yang diperlukan untuk mengkonversi data mentah ke dalam bentuk atau format tabel, sehingga memudahkan untuk analisis."
   ]
  },
  {
   "cell_type": "markdown",
   "id": "de63529e",
   "metadata": {},
   "source": [
    "#### Tipe Data yang Digunakan Pada Pandas\n",
    "#### DataFrame\n",
    "- Struktur data dasar pandas dinamakan DataFrame\n",
    "- Koleksi kolom berurutan dengan bentuk sebuah tabel yang tamoak seperti database dimana sebuah baris tunggal mewakili sebuah data tunggal dan kolom mewakili atribut tertentu\n",
    "- Dengan adanya fitur DataFrame memudahkan untuk membaca sebuah file dan menjadikannya tabel."
   ]
  },
  {
   "cell_type": "markdown",
   "id": "6be93b59",
   "metadata": {},
   "source": [
    "#### Beberapa Hal yang Bisa Dilakukan dengan Pandas\n",
    "- Membaca dan menuliskan data dalam bentuk CSV, Excel, dll.\n",
    "- Menghitung statistik dan menjawab pertanyaan tentang data, seperti menghitung rata-rata, median, nilai maksimum atau minimum, dll.\n",
    "- Membersihkan data dengan melakukan hal-hal seperti menghapus nilai yang hilang, dan memfilter baris atau kolom dengan beberapa kriteria, memvisualisasikan data dengan bantuan dari Matplotlib. Plot bar, garis, histogram, bubble, dll.\n",
    "- Dapat mengolah data dengan menggunakan operasi join, distinct, group by, agregasi, dan teknik lainnya yang terdapat pada SQL."
   ]
  },
  {
   "cell_type": "markdown",
   "id": "4116ee43",
   "metadata": {},
   "source": [
    "#### Import Pandas"
   ]
  },
  {
   "cell_type": "code",
   "execution_count": null,
   "id": "a7e9a070",
   "metadata": {},
   "outputs": [],
   "source": [
    "#Import Pandas\n",
    "import pandas as pd"
   ]
  },
  {
   "cell_type": "markdown",
   "id": "98a40cf5",
   "metadata": {},
   "source": [
    "#### Komponen Utama Pandas\n",
    "#### Series dan DataFrame\n",
    "- Series adalah suatu kolom\n",
    "- DataFrame adalah kumpulan series, dapat berupa tabel multidimensi"
   ]
  },
  {
   "cell_type": "markdown",
   "id": "e5e05c4d",
   "metadata": {},
   "source": [
    "#### Contoh Pembuatan DataFrame\n",
    "Index di DataFrame terisi otomatis berupa angka yang dimulai dari 0."
   ]
  },
  {
   "cell_type": "code",
   "execution_count": null,
   "id": "b098e431",
   "metadata": {},
   "outputs": [],
   "source": [
    "data = {'apples': [3, 2, 0, 1],\n",
    "       'orange': [0, 3, 7, 2]}\n",
    "purchases = pd.DataFrame(data)\n",
    "print(purchases)"
   ]
  },
  {
   "cell_type": "code",
   "execution_count": null,
   "id": "b0c4b19f",
   "metadata": {},
   "outputs": [],
   "source": [
    "#Penambahan Index Sesuai Keinginan\n",
    "\n",
    "purchases = pd.DataFrame(data,\n",
    "index = ['June', 'Robert', 'Lily', 'David'])\n",
    "print(purchases)"
   ]
  },
  {
   "cell_type": "markdown",
   "id": "ef5b4de7",
   "metadata": {},
   "source": [
    "#### Fungsi Lain\n",
    "- df.head() = pengambilan 5 data pertama\n",
    "- df.head(10) = pengambilan 10 data pertama\n",
    "- df.tail(8) = pengambilan 8 data terakhir\n",
    "- df.coloumns = menampilkan nama kolom\n",
    "- df[['nama','alamat']] = pilih kolom tertentu"
   ]
  },
  {
   "cell_type": "markdown",
   "id": "84f2623a",
   "metadata": {},
   "source": [
    "#### Mengimport File ke Dalam Python\n",
    "Untuk mengimport filenya harus dipastikan terlebih dahulu penulisan nama filenya sesuai, dan file yang akan diimport harus diletakan disatu folder yang sama dengan file .py nya.\n",
    "Untuk membaca file dengan format .csv dan .txt bisa menggunakan perintah read_csv atau read_txt, lalu untuk file dengan format .xlsx bisa menggunakan perintah read_excel."
   ]
  },
  {
   "cell_type": "code",
   "execution_count": null,
   "id": "2343dcc5",
   "metadata": {},
   "outputs": [],
   "source": [
    "#Mengimport File .csv\n",
    "data1=pd.read_csv(\"Nama File.txt\")\n",
    "print(data1)\n",
    "\n",
    "#Mengimport File .txt\n",
    "data2=pd.read_txt(\"Nama File.txt\")\n",
    "print(data2)\n",
    "\n",
    "#Mengimport File .xlsx\n",
    "data3=pd.read_excel(\"Nama File.xlsx\")\n",
    "print(data3)"
   ]
  },
  {
   "cell_type": "markdown",
   "id": "3b68607e",
   "metadata": {},
   "source": [
    "#### Membuat DataFrame Sendiri"
   ]
  },
  {
   "cell_type": "code",
   "execution_count": null,
   "id": "1ef7d39c",
   "metadata": {},
   "outputs": [],
   "source": [
    "data = [1,2,3,4,5]\n",
    "df1 = pd.DataFrame(data)\n",
    "print(df1)"
   ]
  },
  {
   "cell_type": "code",
   "execution_count": null,
   "id": "417b8bd4",
   "metadata": {},
   "outputs": [],
   "source": [
    "data = [['Purwanto',32],['Purnomo',43],['Purwo',55]]\n",
    "df2 = pd.DataFrame(data,columns=['Nama','Usia'])\n",
    "print(df2)"
   ]
  },
  {
   "cell_type": "markdown",
   "id": "a1de5727",
   "metadata": {},
   "source": [
    "#### Memanggil Data Tertentu Pada DataFrame"
   ]
  },
  {
   "cell_type": "code",
   "execution_count": null,
   "id": "5005109a",
   "metadata": {},
   "outputs": [],
   "source": [
    "data = [['Purwanto',32],['Purnomo',43],['Purwo',55]]\n",
    "df2 = pd.DataFrame(data,columns=['Nama','Usia'])\n",
    "print(df2)"
   ]
  },
  {
   "cell_type": "code",
   "execution_count": null,
   "id": "a5ee5fc9",
   "metadata": {},
   "outputs": [],
   "source": [
    "#Ingin Memanggil Kolom Nama\n",
    "df2[\"Nama\"]"
   ]
  },
  {
   "cell_type": "code",
   "execution_count": null,
   "id": "e6670d95",
   "metadata": {},
   "outputs": [],
   "source": [
    "#Ingin Memanggil Kolom Usia\n",
    "df2[\"Usia\"]"
   ]
  },
  {
   "cell_type": "code",
   "execution_count": null,
   "id": "f1bd332c",
   "metadata": {},
   "outputs": [],
   "source": [
    "#Memanggil Index dari Data yang Ada (Tidak menampilkan semua data, hanya beberapa data saja.)\n",
    "df2[\"Nama\"][0]"
   ]
  },
  {
   "cell_type": "markdown",
   "id": "84bbdcac",
   "metadata": {},
   "source": [
    "#### Kegunaan iloc, loc, at, dan iat\n",
    "- DataFrame.loc untuk pengindeksan berbasis label, jadi pada dasarnya mencari nilai dalam satu baris.\n",
    "- DataFrame.iloc adalah pengindeksan berbasis baris integer.\n",
    "- DataFrame.at untuk mengakses nilai tunggal untuk pasangan label baris atau kolom.\n",
    "- DataFrame.iat mendapatkan nilai pada pasangan baris atau kolom yang ditentukan."
   ]
  },
  {
   "cell_type": "markdown",
   "id": "c64810a3",
   "metadata": {},
   "source": [
    "#### Set Index"
   ]
  },
  {
   "cell_type": "code",
   "execution_count": null,
   "id": "954ba170",
   "metadata": {},
   "outputs": [],
   "source": [
    "df3 = pd.DataFrame([['Purwanto',32],['Purnomo',43],['Purwo',55]],columns=['Nama','Usia'])\n",
    "df3"
   ]
  },
  {
   "cell_type": "code",
   "execution_count": null,
   "id": "c3b8c804",
   "metadata": {},
   "outputs": [],
   "source": [
    "df3.set_index(\"Nama\")"
   ]
  },
  {
   "cell_type": "markdown",
   "id": "f09a9b9d",
   "metadata": {},
   "source": [
    "#### Pemanggilan Baris"
   ]
  },
  {
   "cell_type": "code",
   "execution_count": null,
   "id": "0596ac5c",
   "metadata": {},
   "outputs": [],
   "source": [
    "import numpy as np\n",
    "df4 = pd.DataFrame(data=np.array([[1, 2, 3], [4, 5, 6], [7, 8, 9]]), index= [2, 'A', 4], columns=[48, 49, 50])\n",
    "df4"
   ]
  },
  {
   "cell_type": "code",
   "execution_count": null,
   "id": "012c9fc3",
   "metadata": {},
   "outputs": [],
   "source": [
    "df4.loc[2]"
   ]
  },
  {
   "cell_type": "code",
   "execution_count": null,
   "id": "9c358a44",
   "metadata": {},
   "outputs": [],
   "source": [
    "df4.iloc[2]"
   ]
  },
  {
   "cell_type": "markdown",
   "id": "bb118b69",
   "metadata": {},
   "source": [
    "#### Menambahkan Kolom dan Isian"
   ]
  },
  {
   "cell_type": "code",
   "execution_count": null,
   "id": "54b32f9c",
   "metadata": {},
   "outputs": [],
   "source": [
    "#Menambahkan index di kolom baru\n",
    "df5 = pd.DataFrame([['Purwanto',32],['Purnomo',43],['Purwo',55]],columns=['Nama','Usia'])\n",
    "df5[\"Index\"]=df5.index\n",
    "df5"
   ]
  },
  {
   "cell_type": "code",
   "execution_count": null,
   "id": "8c677ea0",
   "metadata": {},
   "outputs": [],
   "source": [
    "#Menambahkan kolom dengan isian baru\n",
    "df5.loc[:, \"Gender\"] = pd.Series(['L','L','L'])\n",
    "df5"
   ]
  },
  {
   "cell_type": "markdown",
   "id": "e668ec3e",
   "metadata": {},
   "source": [
    "#### Melihat Ukuran DataFrame"
   ]
  },
  {
   "cell_type": "code",
   "execution_count": null,
   "id": "013022e2",
   "metadata": {},
   "outputs": [],
   "source": [
    "#ukuran baris paling panjang\n",
    "len(df2)"
   ]
  },
  {
   "cell_type": "code",
   "execution_count": null,
   "id": "9c8b3c82",
   "metadata": {},
   "outputs": [],
   "source": [
    "#ukuran baris pada kolom tertentu\n",
    "len(df2[\"Nama\"])"
   ]
  },
  {
   "cell_type": "code",
   "execution_count": null,
   "id": "fef0900b",
   "metadata": {},
   "outputs": [],
   "source": [
    "#ukuran baris, ukuran kolom dataframe\n",
    "print(df2.shape)"
   ]
  },
  {
   "cell_type": "markdown",
   "id": "75d914a4",
   "metadata": {},
   "source": [
    "#### Cleaning Data atau Menghapus"
   ]
  },
  {
   "cell_type": "markdown",
   "id": "0b92602e",
   "metadata": {},
   "source": [
    "Cleaning Data digunakan untuk memperbaiki data yang buruk dalam kumpulan data Anda.\n",
    "\n",
    "Data yang buruk dapat berupa: Sel kosong, Data dalam format yang salah, Data yang salah, dan Duplikat."
   ]
  },
  {
   "cell_type": "code",
   "execution_count": null,
   "id": "c814f020",
   "metadata": {},
   "outputs": [],
   "source": [
    "df6 = pd.DataFrame([['Purwanto',32],['Purnomo',43],['Purwo',55]],columns=['Nama','Usia'])\n",
    "df6"
   ]
  },
  {
   "cell_type": "code",
   "execution_count": null,
   "id": "e97ab8d0",
   "metadata": {},
   "outputs": [],
   "source": [
    "#menghapus kolom\n",
    "del df6['Nama']\n",
    "df6"
   ]
  },
  {
   "cell_type": "code",
   "execution_count": null,
   "id": "3e2319ce",
   "metadata": {},
   "outputs": [],
   "source": [
    "#Menghapus n baris di awal\n",
    "df6=df6[2:]\n",
    "df6"
   ]
  },
  {
   "cell_type": "code",
   "execution_count": null,
   "id": "2a8e893e",
   "metadata": {},
   "outputs": [],
   "source": [
    "df6 = pd.DataFrame([['Purwanto',32],['Purnomo',43],['Purwo',55]],columns=['Nama','Usia'])\n",
    "df6"
   ]
  },
  {
   "cell_type": "code",
   "execution_count": null,
   "id": "dbba4426",
   "metadata": {},
   "outputs": [],
   "source": [
    "#Menghapus baris tertentu\n",
    "df6=df6.drop(df6.index[[0,2]])\n",
    "df6"
   ]
  },
  {
   "cell_type": "markdown",
   "id": "7c2c3096",
   "metadata": {},
   "source": [
    "#### Mengeksport dari DataFrame ke dalam Bentuk .csv, .txt, atau .xlsx"
   ]
  },
  {
   "cell_type": "code",
   "execution_count": null,
   "id": "b103dc27",
   "metadata": {},
   "outputs": [],
   "source": [
    "#import pandas dan numpy\n",
    "import pandas as pd\n",
    "import numpy as np\n",
    "\n",
    "#Misal kita punya suatu dataframe\n",
    "data = [[1,32],[2,43],[4,55]]\n",
    "df = pd.DataFrame(data,columns=['Nama','Usia'])\n",
    "\n",
    "#Convert ke numpy array\n",
    "databaru = df.to_numpy()\n",
    "print(databaru)\n",
    "\n",
    "#Convert ke txt\n",
    "df.to_csv(\"dataexport.txt\")\n",
    "\n",
    "#Convert ke csv\n",
    "df.to_csv(\"dataexport.csv\")\n",
    "\n",
    "#Convert ke xlsx\n",
    "writer = pd.ExcelWriter('dataexport.xlsx')\n",
    "df.to_excel(writer, 'DataFrame')\n",
    "writer.save()"
   ]
  },
  {
   "cell_type": "markdown",
   "id": "51fa8d6a",
   "metadata": {},
   "source": [
    "#### Pandas Correlation\n",
    "Pandas Correlation: bisa membandingkan kolom 1 dengan kolom lainnya, atau hubungan antara dua kolom.\\\n",
    "Metode corr() mengabaikan kolom \"bukan numerik\"."
   ]
  },
  {
   "cell_type": "code",
   "execution_count": null,
   "id": "95d81064",
   "metadata": {},
   "outputs": [],
   "source": [
    "df.corr()"
   ]
  },
  {
   "cell_type": "markdown",
   "id": "4f7c8e6a",
   "metadata": {},
   "source": [
    "#### Pandas Ploting\n",
    "##### Ploting\n",
    "Pandas menggunakan metode plot() untuk membuat diagram. Kita dapat menggunakan Pyplot, sebuah submodul dari library Matplotlib untuk memvisualisasikan diagram di layar.\n",
    "##### Scatter Plot\n",
    "Tentukan bahwa Anda menginginkan scatter plot dengan argumen kind:\n",
    "kind = 'scatter'\n",
    "##### Histogram\n",
    "Gunakan argumen kind untuk menentukan bahwa Anda menginginkan histogram:\n",
    "kind = 'hist'\n",
    "Sebuah histogram hanya membutuhkan satu kolom. Histogram menunjukkan frekuensi setiap interval. berapa banyak latihan berlangsung antara 50 dan 60 menit?"
   ]
  },
  {
   "cell_type": "code",
   "execution_count": null,
   "id": "70c7abf9",
   "metadata": {},
   "outputs": [],
   "source": [
    "#Ploting\n",
    "import pandas as pd\n",
    "import matplotlib.pyplot as plt\n",
    "\n",
    "df = pd.read_csv('data.csv')\n",
    "df.plot()\n",
    "plt.show()\n",
    "\n",
    "#Scatter Plot\n",
    "#Contoh: Menggunakan \"Durasi\" untuk sumbu x dan \"Kalori\" untuk sumbu y.\n",
    "#Sertakan argumen x dan y seperti, x = \"Durasi\", y = \"Kalori\"\n",
    "import pandas as pd\n",
    "import matplotlib.pyplot as plt\n",
    "\n",
    "df = pd.read_csv('data.csv')\n",
    "df.plot(kind = 'scatter', x = 'Durasi', y = 'Kalori')\n",
    "plt.show()\n",
    "\n",
    "#histogram\n",
    "df[\"Durasi\"].plot(kind = 'hist')"
   ]
  }
 ],
 "metadata": {
  "kernelspec": {
   "display_name": "Python 3 (ipykernel)",
   "language": "python",
   "name": "python3"
  },
  "language_info": {
   "codemirror_mode": {
    "name": "ipython",
    "version": 3
   },
   "file_extension": ".py",
   "mimetype": "text/x-python",
   "name": "python",
   "nbconvert_exporter": "python",
   "pygments_lexer": "ipython3",
   "version": "3.9.7"
  }
 },
 "nbformat": 4,
 "nbformat_minor": 5
}
