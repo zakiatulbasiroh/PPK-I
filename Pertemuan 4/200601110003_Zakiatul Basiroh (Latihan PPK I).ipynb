{
 "cells": [
  {
   "cell_type": "markdown",
   "id": "8161d229",
   "metadata": {},
   "source": [
    "### Latihan PPK I\n",
    "Nama : Zakiatul Basiroh\\\n",
    "NIM  : 200601110003\\\n",
    "     Praktikum Pemograman Komputer - F"
   ]
  },
  {
   "cell_type": "markdown",
   "id": "5cf2099e",
   "metadata": {},
   "source": [
    "#### No. 1\n",
    "Buatlah program untuk menginputkan dua buah bilangan bulat, kemudian mencetak salah satu bilangan yang nilainya terbesar!"
   ]
  },
  {
   "cell_type": "code",
   "execution_count": 6,
   "id": "8f93ea62",
   "metadata": {},
   "outputs": [
    {
     "name": "stdout",
     "output_type": "stream",
     "text": [
      "Mencetak Bilangan Terbesar\n",
      "   \n",
      "Bilangan Pertama: 23\n",
      "Bilangan Kedua  : 11\n",
      "Bilangan Nilai Terbesar Adalah 23\n"
     ]
    }
   ],
   "source": [
    "print(\"Mencetak Bilangan Terbesar\")\n",
    "print(\"   \")\n",
    "a = int(input(\"Bilangan Pertama: \"))\n",
    "b = int(input(\"Bilangan Kedua  : \"))\n",
    "if a > b:\n",
    "    max = a\n",
    "else:\n",
    "    max = b\n",
    "print('Bilangan Nilai Terbesar Adalah %d' %max)"
   ]
  },
  {
   "cell_type": "markdown",
   "id": "90f8126f",
   "metadata": {},
   "source": [
    "#### No. 2\n",
    "Pada akhir semester seorang dosen menghitung nilai akhir dari mahasiswa yang terdiri dari nilai uas, uts, kuis, dan tugas. Nilai akhir didapatkan dari 40% nilai uas, 30% nilai uts, 10% nilai kuis, dan 20% nilai tugas. Jika nilai akhir dari mahasiswa di bawah 65 maka mahasiswa tersebut akan mendapatkan remidi. Buatlah program untuk membantu mengetahui mahasiswa yang mendapatkan remidi berdasarkan nilai akhir yang didapatkannya!"
   ]
  },
  {
   "cell_type": "code",
   "execution_count": 5,
   "id": "4120ed38",
   "metadata": {},
   "outputs": [
    {
     "name": "stdout",
     "output_type": "stream",
     "text": [
      "Menghitung Nilai Akhir\n",
      "   \n",
      "Nilai UAS  : 76\n",
      "Nilai UTS  : 78\n",
      "Nilai Kuis : 82\n",
      "Nilai Tugas: 86\n",
      "Nilai Akhir: 79.2\n",
      "SELAMAT ANDA LULUS!\n"
     ]
    }
   ],
   "source": [
    "print(\"Menghitung Nilai Akhir\")\n",
    "print(\"   \")\n",
    "a = int(input(\"Nilai UAS  : \"))\n",
    "b = int(input(\"Nilai UTS  : \"))\n",
    "c = int(input(\"Nilai Kuis : \"))\n",
    "d = int(input(\"Nilai Tugas: \"))\n",
    "\n",
    "a = a*40/100;\n",
    "b = b*30/100;\n",
    "c = c*10/100;\n",
    "d = d*20/100;\n",
    "Nilai_Akhir = a+b+c+d;\n",
    "print(\"Nilai Akhir:\" ,float(Nilai_Akhir))\n",
    "if Nilai_Akhir == \"65\" or Nilai_Akhir > 65:\n",
    "    print(\"SELAMAT ANDA LULUS!\")\n",
    "else:\n",
    "    print(\"ANDA REMEDI!\")"
   ]
  },
  {
   "cell_type": "markdown",
   "id": "76f85782",
   "metadata": {},
   "source": [
    "#### No. 3\n",
    "Buatlah program kalkulator sederhana menggunakan Python. User akan memasukkan dua buah bilangan riil dan satu buah operator aritmatika (+, -, * atau /) kemudian program akan mengoperasikan dua bilangan tersebut dengan operator yang sesuai."
   ]
  },
  {
   "cell_type": "code",
   "execution_count": 4,
   "id": "fa05e5c1",
   "metadata": {},
   "outputs": [
    {
     "name": "stdout",
     "output_type": "stream",
     "text": [
      "Kalkulator Sederhana Menggunakan Python\n",
      "   \n",
      "Pilih Operasi\n",
      "Penjumlahan (+)\n",
      "Pengurangan (-)\n",
      "Perkalian (*)\n",
      "Pembagian (/)\n",
      "Masukkan Pilihan(+,-,*,/): *\n",
      "Masukkan Bilangan Pertama: 6\n",
      "Masukkan Bilangan Kedua  : 3\n",
      "6 * 3 = 18\n"
     ]
    }
   ],
   "source": [
    "print(\"Kalkulator Sederhana Menggunakan Python\")\n",
    "print(\"   \")\n",
    "def add(x,y):\n",
    "    return x+y\n",
    "def subtract(x,y):\n",
    "    return x-y\n",
    "def multiply(x,y):\n",
    "    return x*y\n",
    "def divide(x,y):\n",
    "    return x/y\n",
    "\n",
    "print(\"Pilih Operasi\")\n",
    "print(\"Penjumlahan (+)\")\n",
    "print(\"Pengurangan (-)\")\n",
    "print(\"Perkalian (*)\")\n",
    "print(\"Pembagian (/)\")\n",
    "\n",
    "choice = input(\"Masukkan Pilihan(+,-,*,/): \")\n",
    "\n",
    "num1 = int(input(\"Masukkan Bilangan Pertama: \"))\n",
    "num2 = int(input(\"Masukkan Bilangan Kedua  : \"))\n",
    "\n",
    "if choice == '+':\n",
    "    print(num1,\"+\",num2,\"=\", add(num1,num2))\n",
    "elif choice == '-':\n",
    "    print(num1,\"-\",num2,\"=\", subtract(num1,num2))\n",
    "elif choice == '*':\n",
    "    print(num1,\"*\",num2,\"=\", multiply(num1,num2))\n",
    "elif choice == '/':\n",
    "    print(num1,\"/\",num2,\"=\", divide(num1,num2))\n",
    "else:\n",
    "    print(\"Input Salah\")"
   ]
  },
  {
   "cell_type": "code",
   "execution_count": null,
   "id": "23274afc",
   "metadata": {},
   "outputs": [],
   "source": []
  }
 ],
 "metadata": {
  "kernelspec": {
   "display_name": "Python 3 (ipykernel)",
   "language": "python",
   "name": "python3"
  },
  "language_info": {
   "codemirror_mode": {
    "name": "ipython",
    "version": 3
   },
   "file_extension": ".py",
   "mimetype": "text/x-python",
   "name": "python",
   "nbconvert_exporter": "python",
   "pygments_lexer": "ipython3",
   "version": "3.9.7"
  }
 },
 "nbformat": 4,
 "nbformat_minor": 5
}
