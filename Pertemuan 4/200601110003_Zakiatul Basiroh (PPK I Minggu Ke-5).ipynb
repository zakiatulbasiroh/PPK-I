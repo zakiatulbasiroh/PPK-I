{
 "cells": [
  {
   "cell_type": "markdown",
   "id": "2d9848c8",
   "metadata": {},
   "source": [
    "## Chapter 4 - Fungsi & Modul 4 - Control Flow"
   ]
  },
  {
   "cell_type": "markdown",
   "id": "409a3f92",
   "metadata": {},
   "source": [
    "### Fungsi Global"
   ]
  },
  {
   "cell_type": "code",
   "execution_count": 3,
   "id": "f4419dae",
   "metadata": {},
   "outputs": [
    {
     "data": {
      "text/plain": [
       "50"
      ]
     },
     "execution_count": 3,
     "metadata": {},
     "output_type": "execute_result"
    }
   ],
   "source": [
    "def kali(a,b):\n",
    "    c=a*b\n",
    "    return c # Mengembalikan nilai ke baris pemanggil\n",
    "def tulis(s):\n",
    "    print(s)\n",
    "z=kali(10,5)\n",
    "z"
   ]
  },
  {
   "cell_type": "code",
   "execution_count": 4,
   "id": "2c818603",
   "metadata": {},
   "outputs": [
    {
     "name": "stdout",
     "output_type": "stream",
     "text": [
      "Pemograman Komputer I dengan Python\n"
     ]
    }
   ],
   "source": [
    "tulis('Pemograman Komputer I dengan Python')"
   ]
  },
  {
   "cell_type": "code",
   "execution_count": 5,
   "id": "2ffd759c",
   "metadata": {},
   "outputs": [
    {
     "name": "stdout",
     "output_type": "stream",
     "text": [
      "50\n"
     ]
    }
   ],
   "source": [
    "tulis(z)"
   ]
  },
  {
   "cell_type": "markdown",
   "id": "e3208b71",
   "metadata": {},
   "source": [
    "### Ekspresi Boolean"
   ]
  },
  {
   "cell_type": "code",
   "execution_count": 1,
   "id": "c0793192",
   "metadata": {},
   "outputs": [
    {
     "data": {
      "text/plain": [
       "True"
      ]
     },
     "execution_count": 1,
     "metadata": {},
     "output_type": "execute_result"
    }
   ],
   "source": [
    "a = 2\n",
    "b = 2\n",
    "\n",
    "a == b"
   ]
  },
  {
   "cell_type": "code",
   "execution_count": 2,
   "id": "80909943",
   "metadata": {},
   "outputs": [
    {
     "data": {
      "text/plain": [
       "True"
      ]
     },
     "execution_count": 2,
     "metadata": {},
     "output_type": "execute_result"
    }
   ],
   "source": [
    "5 == 5"
   ]
  },
  {
   "cell_type": "code",
   "execution_count": 3,
   "id": "e0d551a2",
   "metadata": {},
   "outputs": [
    {
     "data": {
      "text/plain": [
       "False"
      ]
     },
     "execution_count": 3,
     "metadata": {},
     "output_type": "execute_result"
    }
   ],
   "source": [
    "5 == 6"
   ]
  },
  {
   "cell_type": "markdown",
   "id": "4f5bce80",
   "metadata": {},
   "source": [
    "### Percobaan Conditional if"
   ]
  },
  {
   "cell_type": "code",
   "execution_count": 4,
   "id": "ca255674",
   "metadata": {},
   "outputs": [
    {
     "name": "stdout",
     "output_type": "stream",
     "text": [
      "Masukkan Nilai Anda: 78\n",
      "Anda Lulus Ujian! SELAMAT!\n"
     ]
    }
   ],
   "source": [
    "nilai = input(\"Masukkan Nilai Anda: \")\n",
    "if int(nilai) >= 70:\n",
    "    print(\"Anda Lulus Ujian! SELAMAT!\")"
   ]
  },
  {
   "cell_type": "markdown",
   "id": "adc93abd",
   "metadata": {},
   "source": [
    "### Percobaan Conditional if - else"
   ]
  },
  {
   "cell_type": "code",
   "execution_count": 7,
   "id": "8cb7402e",
   "metadata": {},
   "outputs": [
    {
     "name": "stdout",
     "output_type": "stream",
     "text": [
      "Masukkan Nilai Anda: 85\n",
      "Anda Lulus Ujian! SELAMAT!\n"
     ]
    }
   ],
   "source": [
    "nilai = input(\"Masukkan Nilai Anda: \")\n",
    "if int(nilai) >= 70:\n",
    "    print(\"Anda Lulus Ujian! SELAMAT!\")\n",
    "else:\n",
    "    print(\"Anda Belum Lulus Ujian!\")"
   ]
  },
  {
   "cell_type": "markdown",
   "id": "f251f987",
   "metadata": {},
   "source": [
    "### Percobaan Conditional if - elif - else"
   ]
  },
  {
   "cell_type": "code",
   "execution_count": 12,
   "id": "6b71c2db",
   "metadata": {},
   "outputs": [
    {
     "name": "stdout",
     "output_type": "stream",
     "text": [
      "Masukkan Nilai Anda: 67\n",
      "Anda Belum Lulus Ujian!\n"
     ]
    }
   ],
   "source": [
    "nilai = input(\"Masukkan Nilai Anda: \")\n",
    "if int(nilai) < 0 or int(nilai) > 100:\n",
    "    print(\"Nilai Anda Tidak Valid\")\n",
    "elif int(nilai) >= 70:\n",
    "    print(\"Anda Lulus Ujian! Selamat!\")\n",
    "else:\n",
    "    print(\"Anda Belum Lulus Ujian!\")"
   ]
  }
 ],
 "metadata": {
  "kernelspec": {
   "display_name": "Python 3 (ipykernel)",
   "language": "python",
   "name": "python3"
  },
  "language_info": {
   "codemirror_mode": {
    "name": "ipython",
    "version": 3
   },
   "file_extension": ".py",
   "mimetype": "text/x-python",
   "name": "python",
   "nbconvert_exporter": "python",
   "pygments_lexer": "ipython3",
   "version": "3.9.7"
  }
 },
 "nbformat": 4,
 "nbformat_minor": 5
}
